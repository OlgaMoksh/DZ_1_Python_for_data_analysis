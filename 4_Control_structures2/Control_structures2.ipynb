{
 "cells": [
  {
   "cell_type": "code",
   "execution_count": 2,
   "id": "e9b20a24",
   "metadata": {},
   "outputs": [
    {
     "name": "stdout",
     "output_type": "stream",
     "text": [
      "{98, 35, 15, 213, 54, 119}\n"
     ]
    }
   ],
   "source": [
    "#Задание_1\n",
    "\"\"\"\n",
    "Дана переменная, в которой хранится словарь, \n",
    "содержащий гео-метки для каждого пользователя (пример структуры данных приведен ниже). \n",
    "Вам необходимо написать программу, \n",
    "которая выведет на экран множество уникальных гео-меток всех пользователей.\n",
    "\"\"\"\n",
    "ids = {'user1': [213, 213, 213, 15, 213],\n",
    "'user2': [54, 54, 119, 119, 119],\n",
    "'user3': [213, 98, 98, 35]}\n",
    "ids_geo = list(ids.values())\n",
    "users_geo = [item for geo in ids_geo\n",
    "    for item in geo]\n",
    "print (set(users_geo))"
   ]
  },
  {
   "cell_type": "code",
   "execution_count": 4,
   "id": "beb8961c",
   "metadata": {},
   "outputs": [
    {
     "name": "stdout",
     "output_type": "stream",
     "text": [
      "Результат:\n",
      "\n",
      "Поисковых запросов, содержащих 3 слов(а): 57.14%\n",
      "Поисковых запросов, содержащих 2 слов(а): 42.86%\n"
     ]
    }
   ],
   "source": [
    "#Задание_2\n",
    "\"\"\"\n",
    "Дана переменная, в которой хранится список поисковых запросов пользователя (пример структуры данных приведен ниже). \n",
    "Вам необходимо написать программу, которая выведет на экран распределение количества слов в запросах в требуемом виде.\n",
    "\"\"\"\n",
    "queries = [\n",
    "'смотреть сериалы онлайн',\n",
    "'новости спорта',\n",
    "'афиша кино',\n",
    "'курс доллара',\n",
    "'сериалы этим летом',\n",
    "'курс по питону',\n",
    "'сериалы про спорт',\n",
    "]\n",
    "queries_2={}\n",
    "for query in queries:\n",
    "    words=query.split()\n",
    "    if len(words) in queries_2.keys():\n",
    "        queries_2[len(words)] += 1\n",
    "    else:\n",
    "        queries_2.update({len(words): 1})\n",
    "#print (queries_2)\n",
    "print ('Результат:\\n')\n",
    "for number_of_words, number_of_queries in queries_2.items():\n",
    "    print('Поисковых запросов, содержащих', number_of_words, \n",
    "          'слов(а):', '{:.2%}'.format(number_of_queries/len(queries))) \n"
   ]
  },
  {
   "cell_type": "code",
   "execution_count": 6,
   "id": "af9c102d",
   "metadata": {},
   "outputs": [
    {
     "name": "stdout",
     "output_type": "stream",
     "text": [
      "{'adwords': {'ROI': 2.941176470588225, 'cost': 34, 'revenue': 35},\n",
      " 'facebook': {'ROI': -6.36363636363636, 'cost': 110, 'revenue': 103},\n",
      " 'twitter': {'ROI': -54.16666666666667, 'cost': 24, 'revenue': 11},\n",
      " 'vk': {'ROI': 5.102040816326525, 'cost': 98, 'revenue': 103},\n",
      " 'yandex': {'ROI': 16.99346405228759, 'cost': 153, 'revenue': 179}}\n"
     ]
    }
   ],
   "source": [
    "#Задание_3\n",
    "\"\"\"\n",
    "Дана переменная, в которой хранится информация о затратах и доходе рекламных кампаний по различным источникам. \n",
    "Необходимо дополнить исходную структуру показателем ROI, который рассчитаем по формуле: (revenue / cost - 1) * 100\n",
    "\"\"\"\n",
    "import pprint \n",
    "\n",
    "results = {\n",
    "'vk': {'revenue': 103, 'cost': 98},\n",
    "'yandex': {'revenue': 179, 'cost': 153},\n",
    "'facebook': {'revenue': 103, 'cost': 110},\n",
    "'adwords': {'revenue': 35, 'cost': 34},\n",
    "'twitter': {'revenue': 11, 'cost': 24},\n",
    "}\n",
    "for date_company in results.values():\n",
    "    date_company['ROI']=(date_company['revenue']/date_company['cost']-1)*100\n",
    "    #print(date_company)\n",
    "pprint.pprint(results)"
   ]
  },
  {
   "cell_type": "code",
   "execution_count": 9,
   "id": "5318d955",
   "metadata": {},
   "outputs": [
    {
     "name": "stdout",
     "output_type": "stream",
     "text": [
      "Максимальный объем продаж на рекламном канале: vk\n"
     ]
    }
   ],
   "source": [
    "#Задание 4\n",
    "\"\"\"\n",
    "Дана переменная, в которой хранится статистика рекламных каналов по объемам продаж (пример структуры данных приведен ниже). \n",
    "Напишите программу, которая возвращает название канала с максимальным объемом продаж.\n",
    "\"\"\"\n",
    "stats = {'facebook': 55, 'yandex': 115, 'vk': 120, 'google': 99, 'email': 42, 'ok': 98}\n",
    "s={2:10, 3:11, 4:16}\n",
    "max_sales = max(stats, key=stats.get) \n",
    "print('Максимальный объем продаж на рекламном канале:', max_sales)"
   ]
  },
  {
   "cell_type": "code",
   "execution_count": 10,
   "id": "ae3d342b",
   "metadata": {},
   "outputs": [
    {
     "name": "stdout",
     "output_type": "stream",
     "text": [
      "{'d': {'c': {'b': {'a': {'e': 'f'}}}}}\n"
     ]
    }
   ],
   "source": [
    "#Задание 5 (необязательно)\n",
    "\"\"\"\n",
    "Дан список произвольной длины. Необходимо написать код, который на основе исходного списка \n",
    "составит словарь такого уровня вложенности, какова длина исхондого списка.\n",
    "\"\"\"\n",
    "my_list = ['a', 'b', 'c', 'd', 'e', 'f']\n",
    "my_dict = {my_list[-2]: my_list[-1]} \n",
    "for i in range (0, (len(my_list)-2)):\n",
    "    work_dict={my_list[i]:my_dict}\n",
    "    my_dict = work_dict\n",
    "print((my_dict))"
   ]
  }
 ],
 "metadata": {
  "kernelspec": {
   "display_name": "Python 3",
   "language": "python",
   "name": "python3"
  },
  "language_info": {
   "codemirror_mode": {
    "name": "ipython",
    "version": 3
   },
   "file_extension": ".py",
   "mimetype": "text/x-python",
   "name": "python",
   "nbconvert_exporter": "python",
   "pygments_lexer": "ipython3",
   "version": "3.8.8"
  }
 },
 "nbformat": 4,
 "nbformat_minor": 5
}

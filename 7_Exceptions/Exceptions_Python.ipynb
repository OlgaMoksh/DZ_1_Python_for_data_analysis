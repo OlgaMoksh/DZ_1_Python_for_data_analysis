{
 "cells": [
  {
   "cell_type": "code",
   "execution_count": 7,
   "id": "ce0145a6",
   "metadata": {},
   "outputs": [
    {
     "name": "stdout",
     "output_type": "stream",
     "text": [
      "The Moscow Times - Wednesday, October 2, 2002\n",
      "The Guardian - Friday, 11.10.13\n",
      "Daily News - Thursday, 18 August 1977\n"
     ]
    }
   ],
   "source": [
    "#Задание_1\n",
    "\"\"\"\n",
    "Печатные газеты использовали свой формат дат для каждого выпуска. \n",
    "Для каждой газеты из списка напишите формат указанной даты для перевода в объект datetime:\n",
    "The Moscow Times - Wednesday, October 2, 2002\n",
    "The Guardian - Friday, 11.10.13\n",
    "Daily News - Thursday, 18 August 1977\n",
    "\"\"\"\n",
    "\n",
    "from datetime import datetime\n",
    "date_str1 = \"Wednesday, October 2, 2002\"\n",
    "date_datetime = datetime.strptime(date_str1, \"%A, %B %d, %Y\")\n",
    "print(\"The Moscow Times -\", date_str1)\n",
    "\n",
    "date_str2 = \"Friday, 11.10.13\"\n",
    "date_datetime = datetime.strptime(date_str2, \"%A, %d.%m.%y\")\n",
    "print(\"The Guardian -\", date_str2)\n",
    "\n",
    "date_str3 = \"Thursday, 18 August 1977\"\n",
    "date_datetime = datetime.strptime(date_str3, \"%A, %d %B %Y\")\n",
    "print(\"Daily News -\", date_str3)\n",
    "\n"
   ]
  },
  {
   "cell_type": "code",
   "execution_count": 10,
   "id": "cba1b14d",
   "metadata": {},
   "outputs": [
    {
     "name": "stdout",
     "output_type": "stream",
     "text": [
      "True\n",
      "False\n",
      "False\n"
     ]
    }
   ],
   "source": [
    "#Задание_2\n",
    "\"\"\"\n",
    "Дан поток дат в формате YYYY-MM-DD, в которых встречаются некорректные значения:\n",
    "stream = [‘2018-04-02’, ‘2018-02-29’, ‘2018-19-02’]\n",
    "\n",
    "Напишите функцию, которая проверяет эти даты на корректность. \n",
    "Т. е. для каждой даты возвращает True (дата корректна) или False (некорректная дата).\n",
    "\"\"\"\n",
    "\n",
    "from datetime import datetime\n",
    "\n",
    "stream = ['2018-04-02', '2018-02-29', '2018-19-02']\n",
    "\n",
    "\n",
    "def check_date(date):\n",
    "    try:\n",
    "        datetime.strptime(date, \"%Y-%m-%d\")\n",
    "        return True\n",
    "    except:\n",
    "        return False\n",
    "\n",
    "for date in stream:\n",
    "    date = check_date(date)\n",
    "    print(date)\n",
    "\n",
    "\n",
    "    \n",
    "\n"
   ]
  },
  {
   "cell_type": "code",
   "execution_count": 5,
   "id": "f35ddc20",
   "metadata": {},
   "outputs": [
    {
     "name": "stdout",
     "output_type": "stream",
     "text": [
      "Введите начальную дату: 2020-12-4\n",
      "Введите конечную дату: 2020-12-8\n",
      "2020-12-04\n",
      "2020-12-05\n",
      "2020-12-06\n",
      "2020-12-07\n",
      "2020-12-08\n"
     ]
    }
   ],
   "source": [
    "#Задание 3\n",
    "\"\"\"\n",
    "Напишите функцию date_range, которая возвращает список дат за период от start_date до end_date. \n",
    "Даты должны вводиться в формате YYYY-MM-DD. \n",
    "В случае неверного формата или при start_date > end_date должен возвращаться пустой список.\n",
    "\"\"\"\n",
    "\n",
    "from datetime import datetime\n",
    "from datetime import timedelta\n",
    "\n",
    "start_date = input(\"Введите начальную дату: \")\n",
    "end_date = input(\"Введите конечную дату: \")\n",
    "\n",
    "def date_range(start_date,end_date):\n",
    "     \n",
    "\n",
    "    try:\n",
    "        start_date_dt = datetime.strptime(start_date, \"%Y-%m-%d\")\n",
    "        end_date_dt = datetime.strptime(end_date, \"%Y-%m-%d\")\n",
    "        \n",
    "        if start_date_dt < end_date_dt:\n",
    "            current_dt = start_date_dt\n",
    "            while current_dt <= end_date_dt:\n",
    "                    print(current_dt.strftime('%Y-%m-%d'))\n",
    "                    current_dt += timedelta(days = 1)\n",
    "       \n",
    "    \n",
    "        else:\n",
    "            print(\"[]\")\n",
    "\n",
    "    except:\n",
    "        return []\n",
    "\n",
    "\n",
    "\n",
    "date_range(start_date,end_date)\n",
    "\n",
    "    \n"
   ]
  },
  {
   "cell_type": "markdown",
   "id": "c79210d5",
   "metadata": {},
   "source": [
    "# Задание 4 (бонусное)\n",
    "\n",
    "Ваш коллега прислал код функции:\n",
    "\n",
    "DEFAULT_USER_COUNT = 3\n",
    "\n",
    "def delete_and_return_last_user(region, default_list=[‘A100’, ‘A101’, ‘A102’]):\n",
    "\n",
    "*Удаляет из списка default_list последнего пользователя\n",
    "и возвращает ID нового последнего пользователя.\n",
    "\n",
    "element_to_delete = default_list[-1]\n",
    "default_list.remove(element_to_delete)\n",
    "\n",
    "1\n",
    "return default_list[DEFAULT_USER_COUNT-2]\n",
    "\n",
    "При однократном вызове этой функции все работает корректно:\n",
    "delete_and_return_last_user(1)\n",
    "‘A101’\n",
    "\n",
    "Однако, при повторном вызове получается ошибка IndexError: list index out of range.\n",
    "\n",
    "**Задание:\n",
    "\n",
    "    Что значит ошибка list index out of range?\n",
    "    \n",
    "**Ответ:\n",
    "\n",
    "Данная ошибка указывает на то, что индекс некоторого элемента из списка оказался вне рассматриваемого диапазона\n",
    "    \n",
    "    \n",
    "    Почему при первом запуске функция работает корректно, а при втором - нет?\n",
    "    \n",
    "**Ответ:\n",
    "\n",
    "При втором запуске функция пытается вернуть уже удаленный элемент из списка, так как индекс нового последнего элемента в данном коде считается от длины первоначального списка и не учитывается, что длина списка (=количество элементов) при каждом вызове функции сокращается.\n"
   ]
  }
 ],
 "metadata": {
  "kernelspec": {
   "display_name": "Python 3",
   "language": "python",
   "name": "python3"
  },
  "language_info": {
   "codemirror_mode": {
    "name": "ipython",
    "version": 3
   },
   "file_extension": ".py",
   "mimetype": "text/x-python",
   "name": "python",
   "nbconvert_exporter": "python",
   "pygments_lexer": "ipython3",
   "version": "3.8.8"
  }
 },
 "nbformat": 4,
 "nbformat_minor": 5
}

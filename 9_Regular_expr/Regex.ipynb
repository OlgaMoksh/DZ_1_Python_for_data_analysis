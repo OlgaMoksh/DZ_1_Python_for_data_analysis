{
 "cells": [
  {
   "cell_type": "code",
   "execution_count": 176,
   "id": "afd4a927",
   "metadata": {},
   "outputs": [
    {
     "name": "stdout",
     "output_type": "stream",
     "text": [
      "Номер а222BС валиден. Регион: 96\n",
      "Номер не валиден\n",
      "Номер а222BС валиден. Регион: 102\n"
     ]
    }
   ],
   "source": [
    "#Задание 1\n",
    "\"\"\"Напишите функцию, которая принимает на вход строку и проверяет является ли она валидным транспортным номером \n",
    "(1 буква, 3 цифры, 2 буквы, 2-3 цифры). \n",
    "Обратите внимание, что не все буквы кириллического алфавита используются в транспортных номерах.\n",
    "Если номер валиден, то функция должна возвращать отдельно номер и регион.\n",
    "\"\"\"\n",
    "\n",
    "\n",
    "car_id = 'а222BС96, аф222BС96,а222BС102'          \n",
    "\n",
    "\n",
    "import re\n",
    "\n",
    "\n",
    "full_number_auto = re.findall(r'[АВЕКМНОРСТXУ]{1}\\d{3}\\w{2}\\d{2,3}', car_id, flags = re.IGNORECASE)\n",
    "number_auto = re.findall(r'([АВЕКМНОРСТXУ]{1}\\d{3}\\w{2})\\d{2,3}', car_id, flags = re.IGNORECASE)\n",
    "region_auto = re.findall(r'[АВЕКМНОРСТXУ]{1}\\d{3}\\w{2}(\\d{2,3})', car_id, flags = re.IGNORECASE)\n",
    "\n",
    "for id_ in car_id.split(','):\n",
    "\n",
    "    if re.findall(r'[АВЕКМНОРСТXУ]{1}\\d{3}\\w{2}\\d{2,3}', id_, flags = re.IGNORECASE):\n",
    "        number_auto = re.findall(r'([АВЕКМНОРСТXУ]{1}\\d{3}\\w{2})\\d{2,3}', id_, flags = re.IGNORECASE)\n",
    "        region_auto = re.findall(r'[АВЕКМНОРСТXУ]{1}\\d{3}\\w{2}(\\d{2,3})', id_, flags = re.IGNORECASE)\n",
    "\n",
    "        print(\"Номер\", *number_auto, \"валиден. Регион:\", *region_auto)\n",
    "    \n",
    "    else:\n",
    "        print('Номер не валиден')"
   ]
  },
  {
   "cell_type": "code",
   "execution_count": 10,
   "id": "9e69b0f3",
   "metadata": {},
   "outputs": [
    {
     "data": {
      "text/plain": [
       "'Напишите функцию,которая будет удалять все последовательные повторы слов из заданной строки при помощи регулярных выражений.'"
      ]
     },
     "execution_count": 10,
     "metadata": {},
     "output_type": "execute_result"
    }
   ],
   "source": [
    "#Задание 2\n",
    "\"\"\"\n",
    "Напишите функцию, которая будет удалять все последовательные повторы слов из заданной строки \n",
    "при помощи регулярных выражений. \"\"\" \n",
    "some_string = 'Напишите напишите Напишите функцию функцию,\\\n",
    "которая будет будет будет будет удалять все все все все последовательные повторы слов \\\n",
    "из из из из заданной строки строки при помощи регулярных выражений.'\n",
    "\n",
    "import re\n",
    "\n",
    "some_string1 = re.sub(r'(.\\w+)\\1+',r'\\1', some_string, flags = re.I)\n",
    "re.sub(r'(\\w+.)\\1+',r'\\1', some_string1,flags = re.I) # убираем повторы в начале строки\n",
    "\n",
    "\n"
   ]
  },
  {
   "cell_type": "code",
   "execution_count": 268,
   "id": "ecaa792b",
   "metadata": {},
   "outputs": [
    {
     "data": {
      "text/plain": [
       "'NFC'"
      ]
     },
     "execution_count": 268,
     "metadata": {},
     "output_type": "execute_result"
    }
   ],
   "source": [
    "#Задание 3\n",
    "\n",
    "\"\"\"\n",
    "Напишите функцию, которая будет возвращать акроним по переданной в нее строке со словами.\n",
    "some_words = 'Информационные технологии’\n",
    "Результат: ИТ\n",
    "\n",
    "some_words = 'Near Field Communication’\n",
    "Результат: NFC\n",
    "\"\"\"\n",
    "\n",
    "import re\n",
    "\n",
    "some_words = 'Near Field communication'\n",
    "\n",
    "(''.join(re.findall(r'\\b\\w{1}', some_words)).upper())\n"
   ]
  },
  {
   "cell_type": "code",
   "execution_count": 26,
   "id": "f85c6ca5",
   "metadata": {},
   "outputs": [
    {
     "data": {
      "text/plain": [
       "'КБР'"
      ]
     },
     "execution_count": 26,
     "metadata": {},
     "output_type": "execute_result"
    }
   ],
   "source": [
    "import re\n",
    "\n",
    "some_words = 'Кабардино-Балкарская республика'\n",
    "work_str_some_words = re.sub(r'(\\b\\w{1})(\\w+)', r'\\1', some_words)\n",
    "re.sub(r'[\\s+.,-:;]', r'', work_str_some_words).upper()"
   ]
  },
  {
   "cell_type": "code",
   "execution_count": 6,
   "id": "cdc515e3",
   "metadata": {},
   "outputs": [
    {
     "name": "stdout",
     "output_type": "stream",
     "text": [
      "Результат:\n",
      "gmail = 2\n",
      "mail = 1\n",
      "test = 1\n",
      "ya = 3\n"
     ]
    }
   ],
   "source": [
    "#Задание 4\n",
    "\"\"\"\n",
    "Напишите функцию, которая будет принимать на вход список email-адресов и выводить их распределение по доменным зонам.\n",
    "\n",
    "Пример работы программы:\n",
    "\n",
    "emails = ['test@gmail.com', 'xyz@test.in', 'test@ya.ru', 'xyz@mail.ru', 'xyz@ya.ru', 'xyz@gmail.com']\n",
    "\n",
    "Результат:\n",
    "\n",
    "gmail.com: 2\n",
    "test.in: 1 \n",
    "ya.ru: 2 \n",
    "mail.ru: 1\n",
    "\"\"\"\n",
    "\n",
    "import re\n",
    "emails = ['test@gmail.com', 'xyz@test.in', 'test@ya.ru', 'xyz@mail.ru', 'xyz@ya.ru', 'xyz@gmail.com', 'x123@ya.ru']\n",
    "gmail = 0\n",
    "test = 0 \n",
    "ya = 0 \n",
    "mail = 0\n",
    "\n",
    "\n",
    "for email in emails:\n",
    "    gmail_pattern = re.search(r'\\w+@[gmail]+\\.[com]', email)\n",
    "    mail_pattern = re.search(r'\\w+@[mail]+\\.[ru]', email)\n",
    "    test_pattern = re.search(r'\\w+@[test]+\\.[in]', email)\n",
    "    ya_pattern = re.search(r'\\w+@[ya]+\\.[ru]', email)\n",
    "    if gmail_pattern: gmail += 1\n",
    "    elif mail_pattern: mail += 1\n",
    "    elif test_pattern:test += 1\n",
    "    elif ya_pattern:ya += 1\n",
    "\n",
    "        \n",
    "print(f'Результат:\\ngmail = {gmail}\\nmail = {mail}\\ntest = {test}\\nya = {ya}')"
   ]
  },
  {
   "cell_type": "code",
   "execution_count": 15,
   "id": "76044ae9",
   "metadata": {},
   "outputs": [
    {
     "name": "stdout",
     "output_type": "stream",
     "text": [
      "Результат:\n",
      "Слов на гласные буквы: 9\n",
      "Слов на согласные буквы: 23\n"
     ]
    }
   ],
   "source": [
    "#Задание 5 (необязательное)\n",
    "\"\"\"\n",
    "Напишите функцию, которая будет подсчитывать сколько слов начинается на гласные, \n",
    "а сколько на согласные буквы в тексте (текст может быть написан как с использованием букв кириллицы, так и латиницы).\n",
    "\"\"\"\n",
    "\n",
    "import re\n",
    "some_text = 'Эталонной реализацией Python является интерпретатор CPython, \\\n",
    "поддерживающий большинство активно используемых в работе платформ. \\\n",
    "Он распространяется под свободной лицензией Python Software Foundation License, \\\n",
    "позволяющей использовать его без ограничений в любых приложениях, включая проприетарные.'\n",
    "\n",
    "vowels = 0\n",
    "consonants = 0\n",
    "\n",
    "\n",
    "for i in re.findall(r'\\b\\w+.', some_text, flags = re.I):\n",
    "    if re.findall(r'\\b[аоиеёэуюяaeiou]\\w+.', i, flags = re.I): \n",
    "        vowels += 1\n",
    "    else:\n",
    "        consonants += 1\n",
    "\n",
    "print(f'Результат:\\nСлов на гласные буквы: {vowels}\\nСлов на согласные буквы: {consonants}')"
   ]
  },
  {
   "cell_type": "code",
   "execution_count": 8,
   "id": "6be05405",
   "metadata": {},
   "outputs": [
    {
     "name": "stdout",
     "output_type": "stream",
     "text": [
      "Результат: +7-955-555-55-55\n"
     ]
    }
   ],
   "source": [
    "#Задание 6 (необязательное)\n",
    "\"\"\"\n",
    "Напишите функцию, которая будет проверять номер сотового телефона на валидность (только для российского формата), \n",
    "если он валиден, то переводить его в формат:\n",
    "+7-xxx-xxx-xx-xx\n",
    "Постарайтесь предусмотреть как можно больше адекватных форматов изначального ввода номера. Примеры работы программы:\n",
    "\n",
    "    phone = '+7 955 555-55-55'\n",
    "\n",
    "Результат: +7-950-555-55-55\n",
    "\n",
    "    phone = '8(955)555-55-55'\n",
    "\n",
    "Результат: +7-950-555-55-55\n",
    "\n",
    "    phone = '+7 955 555 55 55'\n",
    "\n",
    "Результат: +7-950-555-55-55\n",
    "\n",
    "    phone = '7(955) 555-55-55'\n",
    "\n",
    "Результат: +7-950-555-55-55\n",
    "\n",
    "    phone = '423-555-55-5555'\n",
    "\n",
    "Результат: Номер не валиден\n",
    "\n",
    "    phone = '123-456-789'\n",
    "\n",
    "Результат: Номер не валиден\n",
    "\"\"\"\n",
    "import re\n",
    "phone = '8(955)555-55-55'\n",
    "work_str_phone = re.sub(r'\\D', r'', phone)\n",
    "if len(work_str_phone) != 11 or (work_str_phone[0] != '7' and work_str_phone[0] != '8') or work_str_phone[1] != '9':\n",
    "    print(\"Результат: Номер не валиден\")\n",
    "else:\n",
    "    phone_out = re.sub(r'(\\d{1})(\\d{3})(\\d{3})(\\d{2})(\\d{2})', r'+7-\\2-\\3-\\4-\\5', work_str_phone)\n",
    "    print(f\"Результат: {phone_out}\")\n"
   ]
  }
 ],
 "metadata": {
  "kernelspec": {
   "display_name": "Python 3",
   "language": "python",
   "name": "python3"
  },
  "language_info": {
   "codemirror_mode": {
    "name": "ipython",
    "version": 3
   },
   "file_extension": ".py",
   "mimetype": "text/x-python",
   "name": "python",
   "nbconvert_exporter": "python",
   "pygments_lexer": "ipython3",
   "version": "3.8.8"
  }
 },
 "nbformat": 4,
 "nbformat_minor": 5
}

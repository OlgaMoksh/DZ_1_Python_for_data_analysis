{
 "cells": [
  {
   "cell_type": "code",
   "execution_count": 2,
   "id": "a19d5db0",
   "metadata": {},
   "outputs": [
    {
     "name": "stdout",
     "output_type": "stream",
     "text": [
      "Ввведите фразу 1 для сравнения: qwerty\n",
      "Ввведите фразу 2 для сравнения: qwertyy\n",
      "Фраза 2 длиннее фразы 1\n",
      "The end\n"
     ]
    }
   ],
   "source": [
    "#Задание 1\n",
    "\"\"\"\n",
    "Даны 2 переменных, в которых хранятся строки произвольной длины: phrase_1 и phrase_2.\n",
    "Напишите код, который проверяет какая из этих строк длиннее.\n",
    "\"\"\"\n",
    "phrase_1 = input (\"Ввведите фразу 1 для сравнения: \")\n",
    "phrase_2 = input (\"Ввведите фразу 2 для сравнения: \")\n",
    "if len(phrase_1) > len(phrase_2):\n",
    "    print ('Фраза 1 длиннее фразы 2')\n",
    "elif len(phrase_1) < len(phrase_2):\n",
    "    print ('Фраза 2 длиннее фразы 1')\n",
    "else:\n",
    "    print ('Фразы равной длины')\n"
   ]
  },
  {
   "cell_type": "code",
   "execution_count": 5,
   "id": "f8af920c",
   "metadata": {},
   "outputs": [
    {
     "name": "stdout",
     "output_type": "stream",
     "text": [
      "Введите год для проверки: 1000\n",
      "Невисокосный год\n"
     ]
    }
   ],
   "source": [
    "#Задание 2\n",
    "\"\"\"\n",
    "Дана переменная, в которой хранится четырехзначное число (год). \n",
    "Необходимо написать программу, которая выведет, является ли данный год високосным или обычным.\n",
    "\"\"\"\n",
    "year = int(input('Введите год для проверки: '))\n",
    "\n",
    "if year % 4 == 0 and year % 100 != 0 or year % 400 == 0:\n",
    "    print ('Високосный год')\n",
    "else:\n",
    "    print('Невисокосный год')\n",
    "    \n",
    "  "
   ]
  },
  {
   "cell_type": "code",
   "execution_count": 11,
   "id": "0ec69577",
   "metadata": {},
   "outputs": [
    {
     "name": "stdout",
     "output_type": "stream",
     "text": [
      "Введите день Вашего рождения: 12\n",
      "Введите месяц Вашего рождения: сентябрь\n",
      "Ваш знак зодиака: Дева\n"
     ]
    }
   ],
   "source": [
    "#Задание 3\n",
    "\"\"\"\n",
    "Необходимо написать программу, \n",
    "которая будет запрашивать у пользователя месяц и дату рождения и выводить соответствующий знак зодиака/\n",
    "\"\"\"\n",
    "your_day = int(input('Введите день Вашего рождения: '))\n",
    "your_month = input('Введите месяц Вашего рождения: ').capitalize()\n",
    "\n",
    "if 20 <= your_day <= 31 and your_month == 'Январь' or 1 <= your_day <= 18 and your_month == 'Февраль':\n",
    "    print('Ваш знак зодиака: Водолей')\n",
    "    \n",
    "elif 19 <= your_day <= 29 and your_month == 'Февраль' or 1 <= your_day <= 20 and your_month == 'Март':\n",
    "    print('Ваш знак зодиака: Рыбы')\n",
    "    \n",
    "elif 21 <= your_day <= 31 and your_month == 'Март' or 1 <= your_day <= 19 and your_month == 'Апрель':\n",
    "    print('Ваш знак зодиака: Овен')\n",
    "    \n",
    "elif 20 <= your_day <= 30 and your_month == 'Апрель' or 1 <= your_day <= 20 and your_month == 'Май':\n",
    "    print('Ваш знак зодиака: Телец')\n",
    "    \n",
    "elif 21 <= your_day <= 31 and your_month == 'Май' or 1 <= your_day <= 21 and your_month == 'Июнь':\n",
    "    print('Ваш знак зодиака: Близнецы')\n",
    "    \n",
    "elif 22 <= your_day <= 30 and your_month == 'Июнь' or 1 <= your_day <= 22 and your_month == 'Июль':\n",
    "    print('Ваш знак зодиака: Рак')\n",
    "    \n",
    "elif 23 <= your_day <= 31 and your_month == 'Июль' or 1 <= your_day <= 22 and your_month == 'Август':\n",
    "    print('Ваш знак зодиака: Лев')\n",
    "    \n",
    "elif 23 <= your_day <= 31 and your_month == 'Август' or 1 <= your_day <= 22 and your_month == 'Сентябрь':\n",
    "    print('Ваш знак зодиака: Дева')\n",
    "    \n",
    "elif 23 <= your_day <= 30 and your_month == 'Сентябрь' or 1 <= your_day <= 22 and your_month == 'Октябрь':\n",
    "    print('Ваш знак зодиака: Весы')\n",
    "    \n",
    "elif 23 <= your_day <= 31 and your_month == 'Октябрь' or 1 <= your_day <= 22 and your_month == 'Ноябрь':\n",
    "    print('Ваш знак зодиака: Скорпион')\n",
    "    \n",
    "elif 23 <= your_day <= 30 and your_month == 'Ноябрь' or 1 <= your_day <= 21 and your_month == 'Декабрь':\n",
    "    print('Ваш знак зодиака: Стрелец')\n",
    "    \n",
    "elif 22 <= your_day <= 31 and your_month == 'Декабрь' or 1 <= your_day <= 19 and your_month == 'Январь':\n",
    "    print('Ваш знак зодиака: Козерог')\n",
    "    \n",
    "    "
   ]
  },
  {
   "cell_type": "code",
   "execution_count": 12,
   "id": "0ebda018",
   "metadata": {},
   "outputs": [
    {
     "name": "stdout",
     "output_type": "stream",
     "text": [
      "Введите ширину упаковки: 16\n",
      "Введите длину упаковки: 12\n",
      "Введите высоту упаковки: 12\n",
      "Коробка № 2\n"
     ]
    }
   ],
   "source": [
    "#Задание 4\n",
    "\"\"\"\n",
    "Вам нужно написать программу для подбора упаковок по размерам товара. \n",
    "Размеры (ширина, длина, высота) хранятся в переменных (в сантиметрах):\n",
    "Используйте следующие правила:\n",
    "    если каждое из трех измерений менее 15 сантиметров, то выведите на экран \"Коробка №1\";\n",
    "    если хотя бы одно из измерений больше 15 сантиметров, но менее 50 сантиметров, то выводите \"Коробка №2\";\n",
    "    если длина товара больше 2 метров, то выводите \"Упаковка для лыж\";\n",
    "    во всех остальных случаях выводите \"Стандартная коробка №3\".\n",
    "\"\"\"\n",
    "width = int(input('Введите ширину упаковки: '))\n",
    "length = int(input('Введите длину упаковки: '))\n",
    "height = int(input('Введите высоту упаковки: '))\n",
    "\n",
    "if length > 200:\n",
    "    print ('Упаковка для лыж')\n",
    "elif  15 < width < 50 or 15 < length < 50 or 15 < height < 50:\n",
    "    print ('Коробка № 2')\n",
    "elif  width < 15 and length < 15 and height < 15:\n",
    "    print ('Коробка № 1')\n",
    "else:\n",
    "    print ('Стандартная коробка №3')\n",
    "   "
   ]
  },
  {
   "cell_type": "code",
   "execution_count": 13,
   "id": "01bd5e51",
   "metadata": {},
   "outputs": [
    {
     "name": "stdout",
     "output_type": "stream",
     "text": [
      "Введите номер билета (6 знаков): 345678\n",
      "Несчастливый билет!\n"
     ]
    }
   ],
   "source": [
    "#Задание 5 (необязательное)\n",
    "\n",
    "\"\"\"\n",
    "Дана переменная, в которой хранится шестизначное число (номер проездного билета). \n",
    "Напишите программу, которая будет определять, является ли данный билет \"счастливым\". \n",
    "Билет считается счастливым, если сумма первых трех цифр совпадает с суммой последних трех цифр номера.\n",
    "\"\"\"\n",
    "your_ticket=str(input('Введите номер билета (6 знаков): '))\n",
    "your_ticket_part1=your_ticket[0:3]\n",
    "your_ticket_part2=your_ticket[3:]\n",
    "sum1 = int(your_ticket_part1[0])+int(your_ticket_part1[1])+int(your_ticket_part1[2])\n",
    "sum2 = int(your_ticket_part2[0])+int(your_ticket_part2[1])+int(your_ticket_part2[2])\n",
    "if sum1==sum2:\n",
    "    print ('Счастливый билет!')\n",
    "else:\n",
    "    print('Несчастливый билет!')\n"
   ]
  },
  {
   "cell_type": "code",
   "execution_count": 7,
   "id": "156b8a3a",
   "metadata": {},
   "outputs": [
    {
     "name": "stdout",
     "output_type": "stream",
     "text": [
      "Введите тип фигуры: Прямоугольник\n",
      "Введите длину стороны D: 10\n",
      "Введите ширину стороны H: 12\n",
      "Площадь прямоугольника равна: 120\n"
     ]
    }
   ],
   "source": [
    "#Задание 6\n",
    "\"\"\"\n",
    "Напишите программу, которая сможет вычислять площади трех фигур (круг, треугольник и прямоугольник). \n",
    "Тип фигуры запрашиваем через пользовательский ввод, после чего делаем запрос характеристик фигуры:\n",
    "    если пользователь выбрал круг, запрашиваем его радиус,\n",
    "    если треугольник – длины трех его сторон;\n",
    "    если прямоугольник – длины двух его сторон.\n",
    "\"\"\"\n",
    "import math\n",
    "\n",
    "form = input('Введите тип фигуры: ').lower()\n",
    "if form == 'круг':\n",
    "    radius =int(input('Введите значение радиуса: '))\n",
    "    print (f\"Площадь круга равна: {round(math.pi*radius**2,2)}\")\n",
    "elif form == 'треугольник':\n",
    "    side_a = int(input('Введите длину стороны А: '))\n",
    "    side_b  = int(input('Введите длину стороны B: ')) \n",
    "    side_c = int(input('Введите длину стороны C: '))\n",
    "    print (f\"Площадь треугольника равна:\\\n",
    "               {round(((1/4)*(math.sqrt((side_a+side_b+side_c)*(side_b+side_c-side_a)*(side_a+side_c-side_b)*(side_a+side_b-side_c)))),2)}\")\n",
    "else: \n",
    "    form== 'прямоугольник'\n",
    "    side_d = int(input('Введите длину стороны D: '))\n",
    "    side_h  = int(input('Введите ширину стороны H: ')) \n",
    "    print (f\"Площадь прямоугольника равна: {round(side_d*side_h,2)}\")\n",
    "    "
   ]
  }
 ],
 "metadata": {
  "kernelspec": {
   "display_name": "Python 3",
   "language": "python",
   "name": "python3"
  },
  "language_info": {
   "codemirror_mode": {
    "name": "ipython",
    "version": 3
   },
   "file_extension": ".py",
   "mimetype": "text/x-python",
   "name": "python",
   "nbconvert_exporter": "python",
   "pygments_lexer": "ipython3",
   "version": "3.8.8"
  }
 },
 "nbformat": 4,
 "nbformat_minor": 5
}

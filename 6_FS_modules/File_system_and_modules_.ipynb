{
 "cells": [
  {
   "cell_type": "code",
   "execution_count": 1,
   "id": "ee096139",
   "metadata": {},
   "outputs": [],
   "source": [
    "# Задание_1\n",
    "\n",
    "\"\"\"\n",
    "Переведите содержимое файла purchase_log.txt в словарь purchases вида:\n",
    "{‘1840e0b9d4’: ‘Продукты’, …}\n",
    "\"\"\"\n",
    "import json\n",
    "import pickle \n",
    "purchase = {}\n",
    "\n",
    "i = 0\n",
    "with open ('C:\\\\Users\\\\Stewe\\\\Desktop\\\\DS_Olga\\\\DZ_GIT_Python\\\\6_FS_modules\\\\Downloads\\\\purchase_log.txt','r', encoding = 'utf-8') as f1:\n",
    "    content = f1.readlines()    \n",
    "            \n",
    "    for line in content[1:]:\n",
    "        line = line.strip()\n",
    "        dict_ = json.loads(line)\n",
    "\n",
    "        key = dict_['user_id']\n",
    "        value = dict_['category']\n",
    "        purchase[key] = value\n",
    "        i = i + 1\n",
    "\n",
    "        #if i > 10:\n",
    "         #   break                  \n",
    "    #print(purchase)\n",
    "    \n",
    "with open('C:\\\\Users\\\\Stewe\\\\Desktop\\\\DS_Olga\\\\DZ_GIT_Python\\\\6_FS_modules\\\\Downloads\\\\purchase.txt', 'w') as f1out:#для наглядного отображения\n",
    "    f1out.write(str(purchase))    \n",
    "\n",
    "with open('C:\\\\Users\\\\Stewe\\\\Desktop\\\\DS_Olga\\\\DZ_GIT_Python\\\\6_FS_modules\\\\Downloads\\\\purchase_copy.txt','wb') as f2:#для использования в задании_2\n",
    "    pickle.dump(purchase,f2)"
   ]
  },
  {
   "cell_type": "code",
   "execution_count": null,
   "id": "e69a39c0",
   "metadata": {},
   "outputs": [],
   "source": [
    "# Задание_2\n",
    "\"\"\"\n",
    "Для каждого user_id в файле visit_log.csv определите третий столбец с категорией покупки \n",
    "(если покупка была, сам файл visit_log.csv изменять не надо). \n",
    "Запишите в файл funnel.csv визиты из файла visit_log.csv, в которых были покупки с указанием категории.\n",
    "\n",
    "\"\"\"\n",
    "import pickle \n",
    "\n",
    "with open('C:\\\\Users\\\\Stewe\\\\Desktop\\\\DS_Olga\\\\DZ_GIT_Python\\\\6_FS_modules\\\\Downloads\\\\purchase_copy.txt','rb') as fpurchase:\n",
    "    purchase_dict = pickle.load(fpurchase)\n",
    "    with open ('C:\\\\Users\\Stewe\\\\Desktop\\DS_Olga\\\\DZ_GIT_Python\\\\6_FS_modules\\\\Downloads\\\\visit_log.csv', 'r') as visit:\n",
    "         with open ('C:\\\\Users\\\\Stewe\\\\Desktop\\\\DS_Olga\\\\DZ_GIT_Python\\\\6_FS_modules\\\\Downloads\\\\funnel.csv', 'w') as funnel:\n",
    "            for line in visit:\n",
    "                user_id = line.strip().split(',')[0]\n",
    "                for user_id, category in purchase_dict.items():\n",
    "                    if user_id in line.strip().split(',')[0]:\n",
    "                        print(user_id,category, file = funnel)"
   ]
  },
  {
   "cell_type": "code",
   "execution_count": 1,
   "id": "cac50625",
   "metadata": {},
   "outputs": [
    {
     "data": {
      "text/plain": [
       "'1840e0b9d4 Продукты\\n'"
      ]
     },
     "execution_count": 1,
     "metadata": {},
     "output_type": "execute_result"
    }
   ],
   "source": [
    "f = open('C:\\\\Users\\\\Stewe\\\\Desktop\\\\DS_Olga\\\\DZ_GIT_Python\\\\6_FS_modules\\\\Downloads\\\\funnel.csv', 'r')\n",
    "f.readline()"
   ]
  }
 ],
 "metadata": {
  "kernelspec": {
   "display_name": "Python 3",
   "language": "python",
   "name": "python3"
  },
  "language_info": {
   "codemirror_mode": {
    "name": "ipython",
    "version": 3
   },
   "file_extension": ".py",
   "mimetype": "text/x-python",
   "name": "python",
   "nbconvert_exporter": "python",
   "pygments_lexer": "ipython3",
   "version": "3.8.8"
  }
 },
 "nbformat": 4,
 "nbformat_minor": 5
}

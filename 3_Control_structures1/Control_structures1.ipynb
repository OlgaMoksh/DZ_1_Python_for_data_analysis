{
 "cells": [
  {
   "cell_type": "code",
   "execution_count": 1,
   "id": "2619dd5b",
   "metadata": {},
   "outputs": [
    {
     "name": "stdout",
     "output_type": "stream",
     "text": [
      "Введите слово: account\n",
      "o \n",
      " the end\n"
     ]
    }
   ],
   "source": [
    "text=str(input(\"Введите слово: \"))\n",
    "if len(text)%2==0:\n",
    "    print(text[(len(text)//2)-1],text[(len(text)//2)])\n",
    "else:\n",
    "    print(text[(len(text)//2)],'\\n','the end')\n",
    "   \n"
   ]
  },
  {
   "cell_type": "code",
   "execution_count": 2,
   "id": "d86d9f21",
   "metadata": {},
   "outputs": [
    {
     "name": "stdout",
     "output_type": "stream",
     "text": [
      "Введите число: 1\n",
      "Введите число: 4\n",
      "Введите число: 8\n",
      "Введите число: 0\n",
      "Результат 13 \n",
      " the end\n"
     ]
    }
   ],
   "source": [
    "number = [ ]\n",
    "num = int\n",
    "while num!=0 :\n",
    "    num= int(input(\"Введите число: \"))\n",
    "    number.append(num)\n",
    "    #print (number)\n",
    "if num == 0:\n",
    "    print(f'Результат', sum(number),'\\n','the end')\n",
    "   "
   ]
  },
  {
   "cell_type": "code",
   "execution_count": 3,
   "id": "b10c6649",
   "metadata": {},
   "outputs": [
    {
     "name": "stdout",
     "output_type": "stream",
     "text": [
      "Идеальные пары: \n",
      "\n",
      "Alex и Emma\n",
      "Arthur и Kate\n",
      "John и Kira\n",
      "Peter и Liza\n",
      "Richard и Trisha\n",
      "the end\n"
     ]
    }
   ],
   "source": [
    "boys = ['Peter', 'Alex', 'John', 'Arthur', 'Richard']\n",
    "girls = ['Kate', 'Liza', 'Kira', 'Emma', 'Trisha']\n",
    "boys.sort()\n",
    "girls.sort()\n",
    "#print(boys, '\\n', girls)\n",
    "if len(boys)!=len(girls):\n",
    "    print ('Внимание, кто-то может остаться без пары!')\n",
    "    #ideal_pair =[(boys[i],girls[i]) for i in range(len(boys))]\n",
    "else:\n",
    "    ideal_pair = [(boy,girl) for boy, girl  in zip(boys,girls)]\n",
    "    print('Идеальные пары:', '\\n')\n",
    "    for boy, girl in ideal_pair:\n",
    "        print(boy, 'и', girl)\n",
    "print(\"the end\")\n",
    "    "
   ]
  },
  {
   "cell_type": "code",
   "execution_count": 5,
   "id": "97bc7f34",
   "metadata": {},
   "outputs": [
    {
     "name": "stdout",
     "output_type": "stream",
     "text": [
      "Результат:\n",
      "Средняя температура в странах:\n",
      "\n",
      "Thailand - 23.9 C\n",
      "Germany - 13.8 C\n",
      "Russia - 3.7 C\n",
      "Poland - 12.0 C\n"
     ]
    }
   ],
   "source": [
    "countries_temperature = [\n",
    "['Thailand', [75.2, 77, 78.8, 73.4, 68, 75.2, 77]],\n",
    "['Germany', [57.2, 55.4, 59, 59, 53.6]],\n",
    "['Russia', [35.6, 37.4, 39.2, 41, 42.8, 39.2, 35.6]],\n",
    "['Poland', [50, 50, 53.6, 57.2, 55.4, 55.4]]\n",
    "]\n",
    "print ('Результат:\\nСредняя температура в странах:\\n')\n",
    "for country, temperature in countries_temperature:\n",
    "    print(country, '-',\"%.1f\" %((((sum(temperature))/len(temperature))-32)/1.8),'C')\n"
   ]
  },
  {
   "cell_type": "code",
   "execution_count": 7,
   "id": "52bd1a31",
   "metadata": {},
   "outputs": [
    {
     "name": "stdout",
     "output_type": "stream",
     "text": [
      "Результат:\n",
      "\n",
      "Среднее количество просмотров на уникального пользователя:  145.33 \n",
      " the end\n"
     ]
    }
   ],
   "source": [
    "stream = [\n",
    "'2018-01-01,user100,150',\n",
    "'2018-01-07,user99,205',\n",
    "'2018-03-29,user1001,81',\n",
    "]\n",
    "unique_user=[]\n",
    "stream_str=','.join(stream)\n",
    "work_list=stream_str.split(',')\n",
    "print ('Результат:\\n')\n",
    "viewing_time=[int(i) for i in work_list[2::3]]\n",
    "#print(f'Среднее количество просмотров на уникального пользователя: ', \"%.2f\" %(sum(viewing_time)/len(set(work_list[1::3]))))\n",
    "for i in work_list[1::3]:\n",
    "    if i not in unique_user:\n",
    "        unique_user.append(i)\n",
    "print(f'Среднее количество просмотров на уникального пользователя: ', \n",
    "      \"%.2f\" %(sum(viewing_time)/len(unique_user)),'\\n','the end')\n"
   ]
  },
  {
   "cell_type": "code",
   "execution_count": 8,
   "id": "d943259b",
   "metadata": {},
   "outputs": [
    {
     "name": "stdout",
     "output_type": "stream",
     "text": [
      "Введите числа:\n",
      "1 4 5 7 8 4 5 6\n",
      "4 5 \n",
      " the end\n"
     ]
    }
   ],
   "source": [
    "user_number=input(\"Введите числа:\\n\")\n",
    "number_list=user_number.split(' ')\n",
    "\n",
    "unique_number=[]\n",
    "\n",
    "for num in number_list:\n",
    "    if num not in unique_number:\n",
    "        unique_number.append(num)\n",
    "recurring_number= [num for num in unique_number if number_list.count(num) > 1]\n",
    "print(' '.join(recurring_number),'\\n','the end')\n"
   ]
  }
 ],
 "metadata": {
  "kernelspec": {
   "display_name": "Python 3",
   "language": "python",
   "name": "python3"
  },
  "language_info": {
   "codemirror_mode": {
    "name": "ipython",
    "version": 3
   },
   "file_extension": ".py",
   "mimetype": "text/x-python",
   "name": "python",
   "nbconvert_exporter": "python",
   "pygments_lexer": "ipython3",
   "version": "3.8.8"
  }
 },
 "nbformat": 4,
 "nbformat_minor": 5
}

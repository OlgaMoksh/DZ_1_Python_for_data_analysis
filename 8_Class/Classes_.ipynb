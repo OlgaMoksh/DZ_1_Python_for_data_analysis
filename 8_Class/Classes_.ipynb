{
 "cells": [
  {
   "cell_type": "code",
   "execution_count": 1,
   "id": "637ebe26",
   "metadata": {},
   "outputs": [
    {
     "name": "stdout",
     "output_type": "stream",
     "text": [
      "{'Австралийский доллар': 54.8526, 'Азербайджанский манат': 43.0642, 'Фунт стерлингов Соединенного королевства': 101.4594, 'Армянских драмов': 14.1315, 'Белорусский рубль': 28.8373, 'Болгарский лев': 44.4941, 'Бразильский реал': 14.5909, 'Венгерских форинтов': 24.5883, 'Гонконгских долларов': 94.2182, 'Датская крона': 11.7032, 'Доллар США': 73.1661, 'Евро': 87.0677, 'Индийских рупий': 98.6033, 'Казахстанских тенге': 17.1311, 'Канадский доллар': 59.0525, 'Киргизских сомов': 86.5397, 'Китайский юань': 11.3024, 'Молдавских леев': 40.6449, 'Норвежских крон': 84.9554, 'Польский злотый': 19.1785, 'Румынский лей': 17.6678, 'СДР (специальные права заимствования)': 104.4161, 'Сингапурский доллар': 54.3017, 'Таджикских сомони': 64.1527, 'Турецких лир': 83.5563, 'Новый туркменский манат': 20.9345, 'Узбекских сумов': 69.1104, 'Украинских гривен': 26.8253, 'Чешских крон': 34.0292, 'Шведских крон': 85.5404, 'Швейцарский франк': 79.5197, 'Южноафриканских рэндов': 51.0071, 'Вон Республики Корея': 64.4371, 'Японских иен': 66.2346}\n"
     ]
    },
    {
     "data": {
      "text/plain": [
       "{'СДР (специальные права заимствования)': 104.4161}"
      ]
     },
     "execution_count": 1,
     "metadata": {},
     "output_type": "execute_result"
    }
   ],
   "source": [
    "#Задание 1\n",
    "\"\"\"\n",
    "Напишите функцию, которая возвращает название валюты (поле ‘Name’) \n",
    "с максимальным значением курса с помощью сервиса www.cbr-xml-daily.ru...ly_json.js\n",
    "\"\"\"\n",
    "import requests\n",
    "\n",
    "def currency():\n",
    "    name_currency = requests.get(\"https://www.cbr-xml-daily.ru/daily_json.js\").json()\n",
    "    value_dict = {}\n",
    "  \n",
    "    for value in name_currency['Valute'].values():\n",
    "        value_dict[value['Name']] = value['Value']\n",
    "    print(value_dict)\n",
    "    \n",
    "    return dict([max(value_dict.items(), key = lambda name: name[1])])\n",
    "        \n",
    "   \n",
    "    \n",
    "currency()\n",
    "        \n"
   ]
  },
  {
   "cell_type": "code",
   "execution_count": 2,
   "id": "bed6bc13",
   "metadata": {},
   "outputs": [],
   "source": [
    "#Задание 2\n",
    "\"\"\"\n",
    "Добавьте в класс Rate параметр diff (со значениями True или False), \n",
    "который в случае значения True в методах курсов валют (eur, usd итд) будет возвращать не курс валюты, \n",
    "а изменение по сравнению в прошлым значением. \n",
    "Считайте, self.diff будет принимать значение True только при возврате значения курса. \n",
    "При отображении всей информации о валюте он не используется.\n",
    "\"\"\"\n",
    "import requests\n",
    "class Rate:\n",
    "    def __init__(self, format_= 'value', diff = True):\n",
    "        self.format = format_\n",
    "        self.diff = diff\n",
    "    \n",
    "    def exchange_rates(self):\n",
    "        \"\"\"\n",
    "        Возвращает данные с www.cbr-xml-daily.ru вида: \n",
    "        {\n",
    "            'AUD': {'ID': 'R01010',\n",
    "      'NumCode': '036',\n",
    "      'CharCode': 'AUD',\n",
    "      'Nominal': 1,\n",
    "      'Name': 'Австралийский доллар',\n",
    "      'Value': 54.8551,\n",
    "      'Previous': 54.5056},...}\n",
    "        \"\"\"\n",
    "        \n",
    "        self.r = requests.get ('https://www.cbr-xml-daily.ru/daily_json.js')\n",
    "        return self.r.json()['Valute']\n",
    "    \n",
    "    def make_format(self,currency):\n",
    "        \"\"\"\n",
    "        Возвращает информацию о валюте currency в двух вариантах:\n",
    "        - полная информация о валюте при self.format == 'full':\n",
    "        Rate('full').make_format('EUR')\n",
    "            {\n",
    "            'EUR': {'ID': 'R01239',\n",
    "          'NumCode': '978',\n",
    "          'CharCode': 'EUR',\n",
    "          'Nominal': 1,\n",
    "          'Name': 'Евро',\n",
    "          'Value': 86.8942,\n",
    "          'Previous': 85.9943}\n",
    "          }\n",
    "        - краткая информация:\n",
    "        Rate('value').make_format('EUR')\n",
    "        86.8942\n",
    "        \"\"\"\n",
    "        response = self.exchange_rates()\n",
    "        \n",
    "        if currency in response:\n",
    "            if self.format == 'full' and self.diff is False:\n",
    "                return response[currency]\n",
    "            if self.format == 'value' and self.diff is True :\n",
    "                return response[currency]['Value'] - response[currency]['Previous'] #возврат величины изменения курса\n",
    "        return 'Error' \n",
    "\n",
    "    def eur(self):\n",
    "        \"\"\"Возвращает курс евро на сегодня в формате self.format\"\"\"\n",
    "        return self.make_format('EUR')\n",
    "\n",
    "    def usd(self):\n",
    "        \"\"\"Возвращает курс евро на сегодня в формате self.format\"\"\"\n",
    "        return self.make_format('USD')\n"
   ]
  },
  {
   "cell_type": "code",
   "execution_count": 3,
   "id": "e7aca45b",
   "metadata": {},
   "outputs": [],
   "source": [
    "a = Rate(format_= 'full', diff = False)"
   ]
  },
  {
   "cell_type": "code",
   "execution_count": 4,
   "id": "d04e1fef",
   "metadata": {},
   "outputs": [
    {
     "data": {
      "text/plain": [
       "{'ID': 'R01239',\n",
       " 'NumCode': '978',\n",
       " 'CharCode': 'EUR',\n",
       " 'Nominal': 1,\n",
       " 'Name': 'Евро',\n",
       " 'Value': 87.0677,\n",
       " 'Previous': 86.8942}"
      ]
     },
     "execution_count": 4,
     "metadata": {},
     "output_type": "execute_result"
    }
   ],
   "source": [
    "a.eur()"
   ]
  },
  {
   "cell_type": "code",
   "execution_count": 6,
   "id": "bbed6f60",
   "metadata": {},
   "outputs": [],
   "source": [
    "a = Rate()"
   ]
  },
  {
   "cell_type": "code",
   "execution_count": 7,
   "id": "5fad0978",
   "metadata": {},
   "outputs": [
    {
     "data": {
      "text/plain": [
       "0.1735000000000042"
      ]
     },
     "execution_count": 7,
     "metadata": {},
     "output_type": "execute_result"
    }
   ],
   "source": [
    "a.eur()"
   ]
  },
  {
   "cell_type": "code",
   "execution_count": null,
   "id": "ce714c8b",
   "metadata": {},
   "outputs": [],
   "source": [
    "#Задание 3\n",
    "\"\"\"\n",
    "Напишите класс Designer, который учитывает количество международных премий. \n",
    "Комментарий по классу Designer такой:\n",
    "Напишите класс Designer, который учитывает количество международных премий для дизайнеров \n",
    "(из презентации: “Повышение на 1 грейд за каждые 7 баллов. Получение международной премии – это +2 балла”). \n",
    "Считайте, что при выходе на работу сотрудник уже имеет две премии и их количество не меняется со стажем \n",
    "(конечно если хотите это можно вручную менять).\n",
    "\"\"\""
   ]
  },
  {
   "cell_type": "code",
   "execution_count": 8,
   "id": "a9ccf4eb",
   "metadata": {},
   "outputs": [],
   "source": [
    "class Employee:\n",
    "    def __init__(self, name, seniority):\n",
    "        self.name = name\n",
    "        self.seniority = seniority\n",
    "        self.grade = 1\n",
    "        \n",
    "    def grade_up(self):\n",
    "        \"\"\"Повышает уровень сотрудника\"\"\"\n",
    "        self.grade += 1\n",
    "    \n",
    "    def publish_grade(self):\n",
    "        \"\"\"Публикация результатов аккредитации сотрудников\"\"\"\n",
    "        print(self.name, self.grade)\n",
    "        \n",
    "    def check_if_it_is_time_for_upgrade(self):\n",
    "        pass"
   ]
  },
  {
   "cell_type": "code",
   "execution_count": 20,
   "id": "57eaa59e",
   "metadata": {},
   "outputs": [],
   "source": [
    "class Designer(Employee):\n",
    "    def _init_(self, name, seniority):\n",
    "        super()._init_(name, seniority)\n",
    "    \n",
    "    def check_availability_of_an_international_award(self, international_award = 2):\n",
    "        # учет получения международной премии – это +2 балла \n",
    "        self.seniority = self.seniority + 2*int(international_award)\n",
    "        \n",
    "        print(self.seniority)\n",
    "    \n",
    "    def check_if_it_is_time_for_upgrade(self):\n",
    "        # для каждой аккредитации увеличиваем счетчик на 1\n",
    "        # пока считаем, что все дизайнеры проходят аккредитацию\n",
    "            self.seniority += 1\n",
    "            #print(self.seniority)\n",
    "        \n",
    "        # условие повышения сотрудника: Повышение на 1 грейд за каждые 7 баллов.\n",
    "            if self.seniority % 7 == 0:          \n",
    "                self.grade_up()\n",
    "         \n",
    "        # публикация результатов  \n",
    "            return self.publish_grade()\n",
    "               \n",
    "    \n",
    "        "
   ]
  },
  {
   "cell_type": "code",
   "execution_count": 21,
   "id": "4d56abea",
   "metadata": {},
   "outputs": [],
   "source": [
    "a = Designer('Виктор', 0)"
   ]
  },
  {
   "cell_type": "code",
   "execution_count": 22,
   "id": "ec4aa2e1",
   "metadata": {},
   "outputs": [
    {
     "name": "stdout",
     "output_type": "stream",
     "text": [
      "2\n"
     ]
    }
   ],
   "source": [
    "a.check_availability_of_an_international_award(1)"
   ]
  },
  {
   "cell_type": "code",
   "execution_count": 23,
   "id": "fac96027",
   "metadata": {},
   "outputs": [
    {
     "name": "stdout",
     "output_type": "stream",
     "text": [
      "Виктор 1\n",
      "Виктор 1\n",
      "Виктор 1\n",
      "Виктор 1\n",
      "Виктор 2\n"
     ]
    }
   ],
   "source": [
    "for i in range(5):\n",
    "    a.check_if_it_is_time_for_upgrade()"
   ]
  }
 ],
 "metadata": {
  "kernelspec": {
   "display_name": "Python 3",
   "language": "python",
   "name": "python3"
  },
  "language_info": {
   "codemirror_mode": {
    "name": "ipython",
    "version": 3
   },
   "file_extension": ".py",
   "mimetype": "text/x-python",
   "name": "python",
   "nbconvert_exporter": "python",
   "pygments_lexer": "ipython3",
   "version": "3.8.8"
  }
 },
 "nbformat": 4,
 "nbformat_minor": 5
}
